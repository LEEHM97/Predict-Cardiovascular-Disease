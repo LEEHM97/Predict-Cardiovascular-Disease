{
 "cells": [
  {
   "cell_type": "code",
   "execution_count": 4,
   "metadata": {},
   "outputs": [],
   "source": [
    "from tensorflow import keras \n",
    "from flask import Flask\n",
    "from flask import render_template\n",
    "from flask import request"
   ]
  },
  {
   "cell_type": "code",
   "execution_count": 5,
   "metadata": {},
   "outputs": [],
   "source": [
    "from tensorflow import keras \n",
    "model = keras.models.load_model('./Models/063-0.5416-0.7331-0.5433.hdf5')"
   ]
  },
  {
   "cell_type": "code",
   "execution_count": 6,
   "metadata": {},
   "outputs": [],
   "source": [
    "app = Flask(__name__)"
   ]
  },
  {
   "cell_type": "code",
   "execution_count": null,
   "metadata": {},
   "outputs": [],
   "source": [
    "@app.route('/')\n",
    "@app.route('/cardiovascular')\n",
    "def CVDPrediction():\n",
    "    age = request.args.get(\"age\")\n",
    "    gender = request.args.get(\"gender\")\n",
    "    height = request.args.get(\"height\")\n",
    "    weight = request.args.get(\"weight\")\n",
    "    ap_hi = request.args.get(\"ap_hi\")\n",
    "    ap_lo = request.args.get(\"ap_lo\")\n",
    "    cholesterol = request.args.get(\"cholesterol\")\n",
    "    gluc = request.args.get(\"gluc\")\n",
    "    smoke = request.args.get(\"smoke\")\n",
    "    alco = request.args.get(\"alco\")\n",
    "    active = request.args.get(\"active\")\n",
    "       \n",
    "    if age == None or gender == None or height == None or weight == None or ap_hi == None or ap_lo == None or cholesterol == None or gluc == None or smoke == None or alco == None or active == None:\n",
    "        return render_template('Diabetes.html', Output = '')\n",
    "    \n",
    "    Input = pd.DataFrame({\n",
    "        'age': [ float(age) ],\n",
    "        'gender': [ float(gender) ],\n",
    "        'height': [ float(height) ],\n",
    "        'weight': [ float(weight) ],\n",
    "        'ap_hi': [ float(ap_hi) ],\n",
    "        'ap_lo': [ float(ap_lo) ],\n",
    "        'cholesterol': [ float(cholesterol) ],\n",
    "        'gluc': [float(gluc)],\n",
    "        'smoke': [float(smoke)],\n",
    "        'alco': [float(alco)],\n",
    "        'active': [float(active)],\n",
    "    })\n",
    "    ModelOutput = model.predict(Input)[0][0]\n",
    "\n",
    "    return render_template('cardiovascular.html', Output = ModelOutput)"
   ]
  },
  {
   "cell_type": "code",
   "execution_count": null,
   "metadata": {},
   "outputs": [],
   "source": [
    "app.run(host='0.0.0.0', port=5000)"
   ]
  }
 ],
 "metadata": {
  "kernelspec": {
   "display_name": "Python 3.8.13 ('fastcampus')",
   "language": "python",
   "name": "python3"
  },
  "language_info": {
   "codemirror_mode": {
    "name": "ipython",
    "version": 3
   },
   "file_extension": ".py",
   "mimetype": "text/x-python",
   "name": "python",
   "nbconvert_exporter": "python",
   "pygments_lexer": "ipython3",
   "version": "3.8.13"
  },
  "orig_nbformat": 4,
  "vscode": {
   "interpreter": {
    "hash": "d03f6901b6a42dbe3cd1c26aed86af13911a401140e63ddc3b23a4d593814a4d"
   }
  }
 },
 "nbformat": 4,
 "nbformat_minor": 2
}

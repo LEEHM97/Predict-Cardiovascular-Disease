{
 "cells": [
  {
   "cell_type": "code",
   "execution_count": 4,
   "metadata": {},
   "outputs": [],
   "source": [
    "from tensorflow import keras \n",
    "from flask import Flask\n",
    "from flask import render_template\n",
    "from flask import request"
   ]
  },
  {
   "cell_type": "code",
   "execution_count": 5,
   "metadata": {},
   "outputs": [],
   "source": [
    "from tensorflow import keras \n",
    "model = keras.models.load_model('./Models/063-0.5416-0.7331-0.5433.hdf5')"
   ]
  },
  {
   "cell_type": "code",
   "execution_count": 6,
   "metadata": {},
   "outputs": [],
   "source": [
    "app = Flask(__name__)"
   ]
  },
  {
   "cell_type": "code",
   "execution_count": null,
   "metadata": {},
   "outputs": [],
   "source": [
    "@app.route('/')\n",
    "@app.route('/cardiovascular')\n",
    "def CVDPrediction():\n",
    "    Pregnancies = request.args.get(\"Pregnancies\")\n",
    "    Glucose = request.args.get(\"Glucose\")\n",
    "    BloodPressure = request.args.get(\"BloodPressure\")\n",
    "    SkinThickness = request.args.get(\"SkinThickness\")\n",
    "    Insulin = request.args.get(\"Insulin\")\n",
    "    BMI = request.args.get(\"BMI\")\n",
    "    DiabetesPedigreeFunction = request.args.get(\"DiabetesPedigreeFunction\")\n",
    "    Age = request.args.get(\"Age\")\n",
    "       \n",
    "    if Pregnancies == None or Glucose == None:\n",
    "        return render_template('Diabetes.html', Output = '')\n",
    "    \n",
    "    Input = pd.DataFrame({\n",
    "        'Pregnancies': [ float(Pregnancies) ],\n",
    "        'Glucose': [ float(Glucose) ],\n",
    "        'BloodPressure': [ float(BloodPressure) ],\n",
    "        'SkinThickness': [ float(SkinThickness) ],\n",
    "        'Insulin': [ float(Insulin) ],\n",
    "        'BMI': [ float(BMI) ],\n",
    "        'DiabetesPedigreeFunction': [ float(DiabetesPedigreeFunction) ],\n",
    "        'Age': [float(Age)]\n",
    "    })\n",
    "    ModelOutput = model.predict(Input)[0][0]\n",
    "\n",
    "    return render_template('Diabetes.html', Output = ModelOutput)"
   ]
  }
 ],
 "metadata": {
  "kernelspec": {
   "display_name": "Python 3.8.13 ('fastcampus')",
   "language": "python",
   "name": "python3"
  },
  "language_info": {
   "codemirror_mode": {
    "name": "ipython",
    "version": 3
   },
   "file_extension": ".py",
   "mimetype": "text/x-python",
   "name": "python",
   "nbconvert_exporter": "python",
   "pygments_lexer": "ipython3",
   "version": "3.8.13"
  },
  "orig_nbformat": 4,
  "vscode": {
   "interpreter": {
    "hash": "d03f6901b6a42dbe3cd1c26aed86af13911a401140e63ddc3b23a4d593814a4d"
   }
  }
 },
 "nbformat": 4,
 "nbformat_minor": 2
}

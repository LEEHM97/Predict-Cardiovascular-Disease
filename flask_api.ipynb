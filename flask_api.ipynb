{
 "cells": [
  {
   "cell_type": "code",
   "execution_count": 199,
   "metadata": {},
   "outputs": [],
   "source": [
    "from tensorflow import keras \n",
    "from flask import Flask\n",
    "from flask import render_template\n",
    "from flask import request\n",
    "\n",
    "import pandas as pd"
   ]
  },
  {
   "cell_type": "code",
   "execution_count": 2,
   "metadata": {},
   "outputs": [],
   "source": [
    "from tensorflow import keras \n",
    "model = keras.models.load_model('./Models/063-0.5416-0.7331-0.5433.hdf5')"
   ]
  },
  {
   "cell_type": "code",
   "execution_count": 224,
   "metadata": {},
   "outputs": [],
   "source": [
    "app = Flask(__name__)"
   ]
  },
  {
   "cell_type": "code",
   "execution_count": 225,
   "metadata": {},
   "outputs": [],
   "source": [
    "@app.route('/')\n",
    "@app.route('/cardiovascular')\n",
    "def CVDPrediction():\n",
    "    age = request.args.get(\"age\")\n",
    "    gender = request.args.get(\"gender\")\n",
    "    height = request.args.get(\"height\")\n",
    "    weight = request.args.get(\"weight\")\n",
    "    ap_hi = request.args.get(\"ap_hi\")\n",
    "    ap_lo = request.args.get(\"ap_lo\")\n",
    "    cholesterol = request.args.get(\"cholesterol\")\n",
    "    gluc = request.args.get(\"gluc\")\n",
    "    smoke = request.args.get(\"smoke\")\n",
    "    alco = request.args.get(\"alco\")\n",
    "    active = request.args.get(\"active\")\n",
    "       \n",
    "    if age == None or gender == None or height == None or weight == None or ap_hi == None or ap_lo == None or cholesterol == None or gluc == None or smoke == None or alco == None or active == None:\n",
    "        return render_template('cardiovascular.html', Output = '')\n",
    "    \n",
    "    Input = pd.DataFrame({\n",
    "        'age': [ int(age) ],\n",
    "        'gender': [ int(gender) ],\n",
    "        'height': [ int(height) ],\n",
    "        'weight': [ float(weight) ],\n",
    "        'ap_hi': [ int(ap_hi) ],\n",
    "        'ap_lo': [ int(ap_lo) ],\n",
    "        'cholesterol': [ int(cholesterol) ],\n",
    "        'gluc': [int(gluc)],\n",
    "        'smoke': [int(smoke)],\n",
    "        'alco': [int(alco)],\n",
    "        'active': [int(active)],\n",
    "    })\n",
    "    ModelOutput = model.predict(Input)[0][0]\n",
    "\n",
    "    return render_template('cardiovascular.html', Output=ModelOutput, age=age, gender=gender, height=height, weight=weight, ap_hi=ap_hi, ap_lo=ap_lo, cholesterol=cholesterol, gluc=gluc, smoke=smoke, alco=alco, active=active)"
   ]
  },
  {
   "cell_type": "code",
   "execution_count": 226,
   "metadata": {},
   "outputs": [
    {
     "name": "stdout",
     "output_type": "stream",
     "text": [
      " * Serving Flask app '__main__' (lazy loading)\n",
      " * Environment: production\n",
      "\u001b[31m   WARNING: This is a development server. Do not use it in a production deployment.\u001b[0m\n",
      "\u001b[2m   Use a production WSGI server instead.\u001b[0m\n",
      " * Debug mode: off\n"
     ]
    },
    {
     "name": "stderr",
     "output_type": "stream",
     "text": [
      " * Running on all addresses (0.0.0.0)\n",
      "   WARNING: This is a development server. Do not use it in a production deployment.\n",
      " * Running on http://127.0.0.1:5000\n",
      " * Running on http://192.168.55.187:5000 (Press CTRL+C to quit)\n",
      "192.168.55.187 - - [10/Jul/2022 00:55:31] \"GET /cardiovascular?age=20&gender=2&height=150&weight=63&ap_hi=180&ap_lo=16&cholesterol=1&gluc=1&smoke=1&alco=1&active=1 HTTP/1.1\" 200 -\n",
      "192.168.55.187 - - [10/Jul/2022 00:55:31] \"GET /static/image.png HTTP/1.1\" 304 -\n",
      "192.168.55.187 - - [10/Jul/2022 00:55:31] \"GET /cardiovascular?age=20&gender=2&height=150&weight=63&ap_hi=180&ap_lo=16&cholesterol=1&gluc=1&smoke=1&alco=1&active=1 HTTP/1.1\" 200 -\n",
      "192.168.55.187 - - [10/Jul/2022 00:55:33] \"GET /cardiovascular?age=20&gender=2&height=150&weight=63&ap_hi=180&ap_lo=16&cholesterol=1&gluc=1&smoke=1&alco=1&active=1 HTTP/1.1\" 200 -\n",
      "192.168.55.187 - - [10/Jul/2022 00:55:33] \"GET /static/image.png HTTP/1.1\" 304 -\n",
      "192.168.55.187 - - [10/Jul/2022 00:55:33] \"GET /cardiovascular?age=20&gender=2&height=150&weight=63&ap_hi=180&ap_lo=16&cholesterol=1&gluc=1&smoke=1&alco=1&active=1 HTTP/1.1\" 200 -\n",
      "192.168.55.187 - - [10/Jul/2022 00:55:43] \"GET / HTTP/1.1\" 200 -\n",
      "192.168.55.187 - - [10/Jul/2022 00:55:43] \"GET /static/image.png HTTP/1.1\" 304 -\n",
      "192.168.55.187 - - [10/Jul/2022 00:55:43] \"GET / HTTP/1.1\" 200 -\n",
      "192.168.55.187 - - [10/Jul/2022 00:55:57] \"GET /cardiovascular?age=40&gender=1&height=180&weight=70&ap_hi=150&ap_lo=50&cholesterol=1&gluc=1&smoke=1&alco=1&active=1 HTTP/1.1\" 200 -\n",
      "192.168.55.187 - - [10/Jul/2022 00:55:57] \"GET /static/image.png HTTP/1.1\" 304 -\n",
      "192.168.55.187 - - [10/Jul/2022 00:55:57] \"GET /cardiovascular?age=40&gender=1&height=180&weight=70&ap_hi=150&ap_lo=50&cholesterol=1&gluc=1&smoke=1&alco=1&active=1 HTTP/1.1\" 200 -\n"
     ]
    }
   ],
   "source": [
    "app.run(host='0.0.0.0', port=5000)"
   ]
  },
  {
   "cell_type": "code",
   "execution_count": null,
   "metadata": {},
   "outputs": [],
   "source": []
  }
 ],
 "metadata": {
  "kernelspec": {
   "display_name": "Python 3.8.13 ('fastcampus')",
   "language": "python",
   "name": "python3"
  },
  "language_info": {
   "codemirror_mode": {
    "name": "ipython",
    "version": 3
   },
   "file_extension": ".py",
   "mimetype": "text/x-python",
   "name": "python",
   "nbconvert_exporter": "python",
   "pygments_lexer": "ipython3",
   "version": "3.8.13"
  },
  "orig_nbformat": 4,
  "vscode": {
   "interpreter": {
    "hash": "d03f6901b6a42dbe3cd1c26aed86af13911a401140e63ddc3b23a4d593814a4d"
   }
  }
 },
 "nbformat": 4,
 "nbformat_minor": 2
}

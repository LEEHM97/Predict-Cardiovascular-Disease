{
 "cells": [
  {
   "cell_type": "code",
   "execution_count": 3,
   "metadata": {},
   "outputs": [
    {
     "name": "stdout",
     "output_type": "stream",
     "text": [
      "Collecting flask\n",
      "  Using cached Flask-2.1.2-py3-none-any.whl (95 kB)\n",
      "Collecting itsdangerous>=2.0\n",
      "  Using cached itsdangerous-2.1.2-py3-none-any.whl (15 kB)\n",
      "Requirement already satisfied: importlib-metadata>=3.6.0 in c:\\users\\gmlkd\\miniforge3\\envs\\fastcampus\\lib\\site-packages (from flask) (4.11.3)\n",
      "Requirement already satisfied: Werkzeug>=2.0 in c:\\users\\gmlkd\\miniforge3\\envs\\fastcampus\\lib\\site-packages (from flask) (2.0.3)\n",
      "Requirement already satisfied: click>=8.0 in c:\\users\\gmlkd\\miniforge3\\envs\\fastcampus\\lib\\site-packages (from flask) (8.0.4)\n",
      "Requirement already satisfied: Jinja2>=3.0 in c:\\users\\gmlkd\\miniforge3\\envs\\fastcampus\\lib\\site-packages (from flask) (3.0.3)\n",
      "Requirement already satisfied: colorama in c:\\users\\gmlkd\\miniforge3\\envs\\fastcampus\\lib\\site-packages (from click>=8.0->flask) (0.4.4)\n",
      "Requirement already satisfied: zipp>=0.5 in c:\\users\\gmlkd\\miniforge3\\envs\\fastcampus\\lib\\site-packages (from importlib-metadata>=3.6.0->flask) (3.7.0)\n",
      "Requirement already satisfied: MarkupSafe>=2.0 in c:\\users\\gmlkd\\miniforge3\\envs\\fastcampus\\lib\\site-packages (from Jinja2>=3.0->flask) (2.0.1)\n",
      "Installing collected packages: itsdangerous, flask\n",
      "Successfully installed flask-2.1.2 itsdangerous-2.1.2\n",
      "Note: you may need to restart the kernel to use updated packages.\n"
     ]
    }
   ],
   "source": [
    "%pip install flask"
   ]
  },
  {
   "cell_type": "code",
   "execution_count": 1,
   "metadata": {},
   "outputs": [],
   "source": [
    "from tensorflow import keras \n",
    "from flask import Flask\n",
    "from flask import render_template\n",
    "from flask import request\n",
    "\n",
    "import pandas as pd"
   ]
  },
  {
   "cell_type": "code",
   "execution_count": 2,
   "metadata": {},
   "outputs": [],
   "source": [
    "from tensorflow import keras \n",
    "model = keras.models.load_model('./Models/063-0.5416-0.7331-0.5433.hdf5')"
   ]
  },
  {
   "cell_type": "code",
   "execution_count": 264,
   "metadata": {},
   "outputs": [],
   "source": [
    "app = Flask(__name__)"
   ]
  },
  {
   "cell_type": "code",
   "execution_count": 265,
   "metadata": {},
   "outputs": [],
   "source": [
    "@app.route('/')\n",
    "@app.route('/cardiovascular')\n",
    "def CVDPrediction():\n",
    "    age = request.args.get(\"age\")\n",
    "    gender = request.args.get(\"gender\")\n",
    "    height = request.args.get(\"height\")\n",
    "    weight = request.args.get(\"weight\")\n",
    "    ap_hi = request.args.get(\"ap_hi\")\n",
    "    ap_lo = request.args.get(\"ap_lo\")\n",
    "    cholesterol = request.args.get(\"cholesterol\")\n",
    "    gluc = request.args.get(\"gluc\")\n",
    "    smoke = request.args.get(\"smoke\")\n",
    "    alco = request.args.get(\"alco\")\n",
    "    active = request.args.get(\"active\")\n",
    "       \n",
    "    if age == None or gender == None or height == None or weight == None or ap_hi == None or ap_lo == None or cholesterol == None or gluc == None or smoke == None or alco == None or active == None:\n",
    "        return render_template('cardiovascular.html', Output = '')\n",
    "    \n",
    "    Input = pd.DataFrame({\n",
    "        'age': [ int(age) ],\n",
    "        'gender': [ int(gender) ],\n",
    "        'height': [ int(height) ],\n",
    "        'weight': [ float(weight) ],\n",
    "        'ap_hi': [ int(ap_hi) ],\n",
    "        'ap_lo': [ int(ap_lo) ],\n",
    "        'cholesterol': [ int(cholesterol) ],\n",
    "        'gluc': [int(gluc)],\n",
    "        'smoke': [int(smoke)],\n",
    "        'alco': [int(alco)],\n",
    "        'active': [int(active)],\n",
    "    })\n",
    "    ModelOutput = model.predict(Input)[0][0]\n",
    "    ModelOutput = str(round(ModelOutput*100,2)) + \"%\"\n",
    "    return render_template('cardiovascular.html', Output=ModelOutput, age=age, gender=gender, height=height, weight=weight, ap_hi=ap_hi, ap_lo=ap_lo, cholesterol=cholesterol, gluc=gluc, smoke=smoke, alco=alco, active=active)"
   ]
  },
  {
   "cell_type": "code",
   "execution_count": 266,
   "metadata": {},
   "outputs": [
    {
     "name": "stdout",
     "output_type": "stream",
     "text": [
      " * Serving Flask app '__main__' (lazy loading)\n",
      " * Environment: production\n",
      "\u001b[31m   WARNING: This is a development server. Do not use it in a production deployment.\u001b[0m\n",
      "\u001b[2m   Use a production WSGI server instead.\u001b[0m\n",
      " * Debug mode: off\n"
     ]
    },
    {
     "name": "stderr",
     "output_type": "stream",
     "text": [
      " * Running on all addresses.\n",
      "   WARNING: This is a development server. Do not use it in a production deployment.\n",
      " * Running on http://172.30.1.28:5000/ (Press CTRL+C to quit)\n",
      "172.30.1.28 - - [10/Jul/2022 16:38:35] \"GET /cardiovascular?age=55&gender=2&height=180&weight=80&ap_hi=150&ap_lo=60&cholesterol=2&gluc=1&smoke=1&alco=0&active=1 HTTP/1.1\" 200 -\n",
      "172.30.1.28 - - [10/Jul/2022 16:38:36] \"GET /static/image.png HTTP/1.1\" 304 -\n",
      "172.30.1.28 - - [10/Jul/2022 16:38:36] \"GET /cardiovascular?age=55&gender=2&height=180&weight=80&ap_hi=150&ap_lo=60&cholesterol=2&gluc=1&smoke=1&alco=0&active=1 HTTP/1.1\" 200 -\n"
     ]
    }
   ],
   "source": [
    "app.run(host='0.0.0.0', port=5000)"
   ]
  },
  {
   "cell_type": "code",
   "execution_count": null,
   "metadata": {},
   "outputs": [],
   "source": []
  }
 ],
 "metadata": {
  "kernelspec": {
   "display_name": "Python 3.8.13 ('fastcampus')",
   "language": "python",
   "name": "python3"
  },
  "language_info": {
   "codemirror_mode": {
    "name": "ipython",
    "version": 3
   },
   "file_extension": ".py",
   "mimetype": "text/x-python",
   "name": "python",
   "nbconvert_exporter": "python",
   "pygments_lexer": "ipython3",
   "version": "3.8.13"
  },
  "orig_nbformat": 4,
  "vscode": {
   "interpreter": {
    "hash": "d03f6901b6a42dbe3cd1c26aed86af13911a401140e63ddc3b23a4d593814a4d"
   }
  }
 },
 "nbformat": 4,
 "nbformat_minor": 2
}
